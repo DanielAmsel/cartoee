{
 "cells": [
  {
   "cell_type": "markdown",
   "metadata": {},
   "source": [
    "A simple plotting example\n",
    "================"
   ]
  },
  {
   "cell_type": "code",
   "execution_count": null,
   "metadata": {},
   "outputs": [],
   "source": [
    "import ee\n",
    "import cartoee as cee\n",
    "import cartopy.crs as ccrs\n",
    "\n",
    "%pylab inline"
   ]
  },
  {
   "cell_type": "code",
   "execution_count": null,
   "metadata": {},
   "outputs": [],
   "source": [
    "ee.Initialize()"
   ]
  },
  {
   "cell_type": "markdown",
   "metadata": {},
   "source": [
    "### Getting our Image and making a map"
   ]
  },
  {
   "cell_type": "code",
   "execution_count": null,
   "metadata": {},
   "outputs": [],
   "source": [
    "# get an earth engine image\n",
    "srtm = ee.Image(\"CGIAR/SRTM90_V4\")"
   ]
  },
  {
   "cell_type": "code",
   "execution_count": null,
   "metadata": {},
   "outputs": [],
   "source": [
    "# specify visualization parameters and region to map\n",
    "visualization = {'min':0,'max':3000}\n",
    "bbox = [-180,-90,180,90]"
   ]
  },
  {
   "cell_type": "code",
   "execution_count": null,
   "metadata": {},
   "outputs": [],
   "source": [
    "# plot the result using cartoee\n",
    "ax = cee.plot(srtm,region=bbox,visParams=visualization)\n",
    "\n",
    "ax.coastlines()\n",
    "plt.show()"
   ]
  },
  {
   "cell_type": "markdown",
   "metadata": {},
   "source": [
    "### Customizing our map with Cartopy"
   ]
  },
  {
   "cell_type": "code",
   "execution_count": null,
   "metadata": {},
   "outputs": [],
   "source": [
    "from cartopy.mpl.gridliner import LATITUDE_FORMATTER, LONGITUDE_FORMATTER\n",
    "\n",
    "ax = cee.plot(srtm,region=bbox,visParams=visualization)\n",
    "ax.coastlines()\n",
    "\n",
    "# set gridlines and spacing\n",
    "xticks = [-180,-120,-60,0,60,120,180]\n",
    "yticks = [-90,-60,-30,0,30,60,90]\n",
    "ax.gridlines(xlocs=xticks, ylocs=yticks,linestyle='--')\n",
    "\n",
    "# set custom formatting for the tick labels\n",
    "ax.xaxis.set_major_formatter(LONGITUDE_FORMATTER)\n",
    "ax.yaxis.set_major_formatter(LATITUDE_FORMATTER)\n",
    "\n",
    "# set tick labels\n",
    "ax.set_xticks([-180,-120,-60, 0, 60, 120, 180], crs=ccrs.PlateCarree())\n",
    "ax.set_yticks([-90, -60, -30, 0, 30, 60, 90], crs=ccrs.PlateCarree())\n",
    "\n",
    "plt.show()"
   ]
  },
  {
   "cell_type": "markdown",
   "metadata": {},
   "source": [
    "### Plotting a specific region and styling map with multiple images"
   ]
  },
  {
   "cell_type": "code",
   "execution_count": null,
   "metadata": {},
   "outputs": [],
   "source": [
    "# calcualte a hillshade from SRTM data and specify the visualization\n",
    "hillshade = ee.Terrain.hillshade(srtm,azimuth=285,elevation=30)\n",
    "hsVis = {'min':25,'max':200,'palette':'000000,ffffff'}\n",
    "\n",
    "# specify new region over Colorado\n",
    "# showing the Great Continental Divide that splits the state\n",
    "newRegion = [-111,35,-100,43]\n",
    "\n",
    "# set up a blank map\n",
    "ax = plt.subplot(projection=ccrs.PlateCarree())\n",
    "\n",
    "# plot our hillshade on the blank map\n",
    "ax = cee.plot(hillshade,region=newRegion,visParams=hsVis,\n",
    "              axes=ax) # *note: we are passing our map in as a keyword and will get that map with the image overlayed\n",
    "\n",
    "# plot SRTM data over the hillshade with some adjusted visualization parameters\n",
    "ax = cee.plot(srtm,region=newRegion,visParams={'min':1750,'max':3000,'palette':'000000,ffffff','opacity':0.3},\n",
    "              axes=ax) # *note: we are passing the map again as a keyword to stack images on each other\n",
    "\n",
    "# add some styling to make our map publication ready\n",
    "xticks = np.linspace(-111,-100,5)\n",
    "yticks = np.linspace(35,43,5)\n",
    "ax.set_xticks(xticks, crs=ccrs.PlateCarree())\n",
    "ax.set_yticks(yticks, crs=ccrs.PlateCarree())\n",
    "ax.gridlines(xlocs=xticks, ylocs=yticks,linestyle='--',color='midnightblue',alpha=0.5)\n",
    "# set custom formatting for the tick labels\n",
    "ax.xaxis.set_major_formatter(LONGITUDE_FORMATTER)\n",
    "ax.yaxis.set_major_formatter(LATITUDE_FORMATTER)\n",
    "\n",
    "ax.set_title('The Great Continental Divde')\n",
    "\n",
    "plt.show()"
   ]
  },
  {
   "cell_type": "code",
   "execution_count": null,
   "metadata": {},
   "outputs": [],
   "source": []
  }
 ],
 "metadata": {
  "kernelspec": {
   "display_name": "Python 3",
   "language": "python",
   "name": "python3"
  },
  "language_info": {
   "codemirror_mode": {
    "name": "ipython",
    "version": 3
   },
   "file_extension": ".py",
   "mimetype": "text/x-python",
   "name": "python",
   "nbconvert_exporter": "python",
   "pygments_lexer": "ipython3",
   "version": "3.6.5"
  }
 },
 "nbformat": 4,
 "nbformat_minor": 2
}
